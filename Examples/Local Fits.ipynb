{
 "cells": [
  {
   "cell_type": "code",
   "execution_count": null,
   "metadata": {
    "collapsed": false
   },
   "outputs": [],
   "source": [
    "import numpy\n",
    "from pylab import *\n",
    "\n",
    "def modSchechter(L,L0,phi0,alpha,sigma):\n",
    "    lstar=pow(10,L0)\n",
    "    phi=pow(10,phi0)\n",
    "    result=phi*pow((L/lstar),(1-alpha))*exp(-(1.0/(2.0*sigma*sigma))*pow(numpy.log10(1+L/lstar),2))\n",
    "    return result\n",
    "\n",
    "lums=pow(10,numpy.arange(9,14.1,0.1))\n",
    "plot(lums,modSchechter(lums,10.12,-2.29,1.15,0.5),label='G13')\n",
    "plot(lums,modSchechter(lums,11.4,-3.6,1.0,0.5),label=\"D G13 (Beta Fixed)\")\n",
    "plot(lums,modSchechter(lums,10.8,-4.0,1.3,0.9),label='Dc G13')\n",
    "plot(lums,modSchechter(lums,11.4,-2.77,0.54,0.79),label='Dc Fit')\n",
    "plot(lums,modSchechter(lums,11.0,-3.29,1.15,1.07),label='D Fit')\n",
    "\n",
    "legend(loc='lower left')\n",
    "xscale('log')\n",
    "yscale('log')\n",
    "ylim(1e-9,1e-1)\n",
    "show()"
   ]
  },
  {
   "cell_type": "code",
   "execution_count": 8,
   "metadata": {
    "collapsed": false
   },
   "outputs": [
    {
     "name": "stdout",
     "output_type": "stream",
     "text": [
      "(1.1344622, 0.49674606)\n",
      "(1.2794648, 0.5751487)\n",
      "(11.166341, 0.4752439)\n",
      "(-3.2977896, 0.56578463)\n"
     ]
    },
    {
     "data": {
      "text/plain": [
       "2.060735"
      ]
     },
     "execution_count": 8,
     "metadata": {},
     "output_type": "execute_result"
    }
   ],
   "source": [
    "import pyfits\n",
    "hdus=pyfits.open(\"spire_MS_D_Fit/spire_MS_D_Fit_output.fits\")\n",
    "chis=hdus[4].data['CHISQ1']\n",
    "alphas=hdus[4].data['ALPHA1']\n",
    "betas=hdus[4].data['BETA1']\n",
    "los=hdus[4].data['L01']\n",
    "phis=hdus[4].data['PHI01']\n",
    "x=betas[chis<median(chis)]\n",
    "y=alphas[chis<median(chis)]\n",
    "z=los[chis<median(chis)]\n",
    "w=phis[chis<median(chis)]\n",
    "print(mean(x),std(x))\n",
    "print(mean(y),std(y))\n",
    "print(mean(z),std(z))\n",
    "print(mean(w),std(w))\n",
    "\n",
    "clf()\n",
    "subplot(2,2,1)\n",
    "hist(x,bins=20,label='beta',histtype='step')\n",
    "title('beta')\n",
    "subplot(2,2,2)\n",
    "hist(y,bins=20,label='alpha',histtype='step')\n",
    "title('alpha')\n",
    "subplot(2,2,3)\n",
    "hist(z,bins=20,label='L0',histtype='step')\n",
    "title('L0')\n",
    "subplot(2,2,4)\n",
    "hist(w,bins=20,label='PHI0',histtype='step')\n",
    "title('PHI0')\n",
    "show()\n",
    "\n",
    "scatter(betas,chis)\n",
    "yscale('log')\n",
    "show()\n",
    "\n",
    "median(chis)"
   ]
  },
  {
   "cell_type": "code",
   "execution_count": null,
   "metadata": {
    "collapsed": false
   },
   "outputs": [],
   "source": []
  }
 ],
 "metadata": {
  "kernelspec": {
   "display_name": "Python 2",
   "language": "python",
   "name": "python2"
  },
  "language_info": {
   "codemirror_mode": {
    "name": "ipython",
    "version": 2
   },
   "file_extension": ".py",
   "mimetype": "text/x-python",
   "name": "python",
   "nbconvert_exporter": "python",
   "pygments_lexer": "ipython2",
   "version": "2.7.6"
  }
 },
 "nbformat": 4,
 "nbformat_minor": 0
}
